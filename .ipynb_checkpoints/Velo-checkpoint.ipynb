{
 "cells": [
  {
   "cell_type": "code",
   "execution_count": 341,
   "id": "a6611a9b",
   "metadata": {},
   "outputs": [],
   "source": [
    "import requests\n",
    "import pandas as pd\n",
    "from bs4 import BeautifulSoup\n",
    "from selenium import webdriver\n",
    "from webdriver_manager.chrome import ChromeDriverManager\n",
    "from selenium.webdriver.common.by import By\n",
    "import numpy as np\n",
    "from time import sleep"
   ]
  },
  {
   "cell_type": "code",
   "execution_count": 342,
   "id": "353887d4",
   "metadata": {},
   "outputs": [],
   "source": [
    "# Observe the network section on web browsers' developer option\n",
    "def get_map_data():\n",
    "    headers = {\n",
    "            'authority': 'ovfietsbeschikbaar.nl',\n",
    "            'accept': 'application/json, text/javascript, */*; q=0.01',\n",
    "            'accept-language': 'fr-FR,fr;q=0.9,en-US;q=0.8,en;q=0.7',\n",
    "            'referer': 'https://ovfietsbeschikbaar.nl/locaties',\n",
    "            'sec-ch-ua': '\" Not A;Brand\";v=\"99\", \"Chromium\";v=\"101\", \"Google Chrome\";v=\"101\"',\n",
    "            'sec-ch-ua-mobile': '?0',\n",
    "            'sec-ch-ua-platform': '\"Windows\"',\n",
    "            'sec-fetch-dest': 'empty',\n",
    "            'sec-fetch-mode': 'cors',\n",
    "            'sec-fetch-site': 'same-origin',\n",
    "            'user-agent': 'Mozilla/5.0 (Windows NT 10.0; Win64; x64) AppleWebKit/537.36 (KHTML, like Gecko) Chrome/101.0.4951.54 Safari/537.36',\n",
    "            'x-requested-with': 'XMLHttpRequest',\n",
    "              }\n",
    "    response = requests.get('https://ovfietsbeschikbaar.nl/data/map-locations', headers=headers)\n",
    "    return response.json()"
   ]
  },
  {
   "cell_type": "code",
   "execution_count": 343,
   "id": "734f23d3",
   "metadata": {
    "scrolled": true
   },
   "outputs": [],
   "source": [
    "map_data= get_map_data()\n",
    "#print('len map_data = ', len(map_data))\n",
    "#print(map_data)\n",
    "# Load map_data\n",
    "df = pd.DataFrame(map_data)"
   ]
  },
  {
   "cell_type": "code",
   "execution_count": 344,
   "id": "c0413198",
   "metadata": {},
   "outputs": [
    {
     "data": {
      "text/html": [
       "<div>\n",
       "<style scoped>\n",
       "    .dataframe tbody tr th:only-of-type {\n",
       "        vertical-align: middle;\n",
       "    }\n",
       "\n",
       "    .dataframe tbody tr th {\n",
       "        vertical-align: top;\n",
       "    }\n",
       "\n",
       "    .dataframe thead th {\n",
       "        text-align: right;\n",
       "    }\n",
       "</style>\n",
       "<table border=\"1\" class=\"dataframe\">\n",
       "  <thead>\n",
       "    <tr style=\"text-align: right;\">\n",
       "      <th></th>\n",
       "      <th>location</th>\n",
       "      <th>url</th>\n",
       "      <th>lat</th>\n",
       "      <th>lng</th>\n",
       "      <th>text</th>\n",
       "    </tr>\n",
       "  </thead>\n",
       "  <tbody>\n",
       "    <tr>\n",
       "      <th>0</th>\n",
       "      <td>'s-Hertogenbosch Oost</td>\n",
       "      <td>https://ovfietsbeschikbaar.nl/locatie/Hto001</td>\n",
       "      <td>51.700878</td>\n",
       "      <td>5.319214</td>\n",
       "      <td>3 fietsen beschikbaar</td>\n",
       "    </tr>\n",
       "    <tr>\n",
       "      <th>1</th>\n",
       "      <td>'t Harde</td>\n",
       "      <td>https://ovfietsbeschikbaar.nl/locatie/Hde001</td>\n",
       "      <td>52.408791</td>\n",
       "      <td>5.89185</td>\n",
       "      <td>1 fietsen beschikbaar</td>\n",
       "    </tr>\n",
       "    <tr>\n",
       "      <th>2</th>\n",
       "      <td>Aalten</td>\n",
       "      <td>https://ovfietsbeschikbaar.nl/locatie/atn001</td>\n",
       "      <td>51.92161</td>\n",
       "      <td>6.57929</td>\n",
       "      <td>4 fietsen beschikbaar</td>\n",
       "    </tr>\n",
       "    <tr>\n",
       "      <th>3</th>\n",
       "      <td>Alkmaar</td>\n",
       "      <td>https://ovfietsbeschikbaar.nl/locatie/amr001</td>\n",
       "      <td>52.63753</td>\n",
       "      <td>4.73985</td>\n",
       "      <td>75 fietsen beschikbaar</td>\n",
       "    </tr>\n",
       "    <tr>\n",
       "      <th>4</th>\n",
       "      <td>Alkmaar Noord</td>\n",
       "      <td>https://ovfietsbeschikbaar.nl/locatie/amrn003</td>\n",
       "      <td>52.64396</td>\n",
       "      <td>4.76371</td>\n",
       "      <td>22 fietsen beschikbaar</td>\n",
       "    </tr>\n",
       "  </tbody>\n",
       "</table>\n",
       "</div>"
      ],
      "text/plain": [
       "                location                                            url  \\\n",
       "0  's-Hertogenbosch Oost   https://ovfietsbeschikbaar.nl/locatie/Hto001   \n",
       "1               't Harde   https://ovfietsbeschikbaar.nl/locatie/Hde001   \n",
       "2                 Aalten   https://ovfietsbeschikbaar.nl/locatie/atn001   \n",
       "3                Alkmaar   https://ovfietsbeschikbaar.nl/locatie/amr001   \n",
       "4          Alkmaar Noord  https://ovfietsbeschikbaar.nl/locatie/amrn003   \n",
       "\n",
       "         lat       lng                    text  \n",
       "0  51.700878  5.319214   3 fietsen beschikbaar  \n",
       "1  52.408791   5.89185   1 fietsen beschikbaar  \n",
       "2   51.92161   6.57929   4 fietsen beschikbaar  \n",
       "3   52.63753   4.73985  75 fietsen beschikbaar  \n",
       "4   52.64396   4.76371  22 fietsen beschikbaar  "
      ]
     },
     "execution_count": 344,
     "metadata": {},
     "output_type": "execute_result"
    }
   ],
   "source": [
    "# Save the data in .csv file with utf-8 encoding\n",
    "df.to_csv('ovfiets.csv', encoding='utf-8')\n",
    "df.url = (\"https://ovfietsbeschikbaar.nl\") + df[\"url\"]\n",
    "df.head()"
   ]
  },
  {
   "cell_type": "code",
   "execution_count": 345,
   "id": "9f78829d",
   "metadata": {},
   "outputs": [],
   "source": [
    "store_urls = np.array([])\n",
    "ff = np.append(store_urls, df['url'])\n",
    "#for x in ff:\n",
    "    #print(x)"
   ]
  },
  {
   "cell_type": "code",
   "execution_count": 346,
   "id": "a399c180",
   "metadata": {},
   "outputs": [
    {
     "name": "stderr",
     "output_type": "stream",
     "text": [
      "\n",
      "\n",
      "====== WebDriver manager ======\n",
      "Current google-chrome version is 101.0.4951\n",
      "Get LATEST chromedriver version for 101.0.4951 google-chrome\n",
      "Driver [C:\\Users\\adema\\.wdm\\drivers\\chromedriver\\win32\\101.0.4951.41\\chromedriver.exe] found in cache\n",
      "C:\\Users\\adema\\AppData\\Local\\Temp\\ipykernel_21548\\3342886935.py:1: DeprecationWarning: executable_path has been deprecated, please pass in a Service object\n",
      "  driver = webdriver.Chrome(ChromeDriverManager().install())\n"
     ]
    }
   ],
   "source": [
    "driver = webdriver.Chrome(ChromeDriverManager().install())\n",
    "total_bike = []\n",
    "def get_total_bike(url):\n",
    "    driver.get(url)\n",
    "    driver.maximize_window()\n",
    "    soup = BeautifulSoup(driver.page_source, 'html.parser')\n",
    "    sleep(2)\n",
    "    for tbody in soup.find_all('tbody', {'class': 'left-column-no-break'}):\n",
    "        tr = tbody.find_all('td')[3].text.strip()\n",
    "        total_bike.append(tr)\n",
    "        print(\"Total bike available = \", tr)\n",
    "    return total_bike"
   ]
  },
  {
   "cell_type": "code",
   "execution_count": 347,
   "id": "fbbb0ff6",
   "metadata": {
    "scrolled": false
   },
   "outputs": [
    {
     "name": "stdout",
     "output_type": "stream",
     "text": [
      "1 . https://ovfietsbeschikbaar.nl/locatie/Hto001\n",
      "Total bike available =  8 fietsen\n",
      "2 . https://ovfietsbeschikbaar.nl/locatie/Hde001\n",
      "Total bike available =  8 fietsen\n",
      "3 . https://ovfietsbeschikbaar.nl/locatie/atn001\n",
      "Total bike available =  6 fietsen\n",
      "4 . https://ovfietsbeschikbaar.nl/locatie/amr001\n",
      "Total bike available =  162 fietsen\n",
      "5 . https://ovfietsbeschikbaar.nl/locatie/amrn003\n",
      "Total bike available =  32 fietsen\n"
     ]
    }
   ],
   "source": [
    "# Modify the end = len(ff) to get them all\n",
    "for x in range(0, 5):\n",
    "    url = ff[x]\n",
    "    print(x+1,\".\", url)\n",
    "    get_total_bike(url)\n",
    "    sleep(1)"
   ]
  },
  {
   "cell_type": "code",
   "execution_count": 348,
   "id": "e398a450",
   "metadata": {
    "scrolled": false
   },
   "outputs": [
    {
     "data": {
      "text/html": [
       "<div>\n",
       "<style scoped>\n",
       "    .dataframe tbody tr th:only-of-type {\n",
       "        vertical-align: middle;\n",
       "    }\n",
       "\n",
       "    .dataframe tbody tr th {\n",
       "        vertical-align: top;\n",
       "    }\n",
       "\n",
       "    .dataframe thead th {\n",
       "        text-align: right;\n",
       "    }\n",
       "</style>\n",
       "<table border=\"1\" class=\"dataframe\">\n",
       "  <thead>\n",
       "    <tr style=\"text-align: right;\">\n",
       "      <th></th>\n",
       "      <th>location</th>\n",
       "      <th>url</th>\n",
       "      <th>lat</th>\n",
       "      <th>lng</th>\n",
       "      <th>text</th>\n",
       "      <th>nbikes</th>\n",
       "    </tr>\n",
       "  </thead>\n",
       "  <tbody>\n",
       "    <tr>\n",
       "      <th>0</th>\n",
       "      <td>'s-Hertogenbosch Oost</td>\n",
       "      <td>https://ovfietsbeschikbaar.nl/locatie/Hto001</td>\n",
       "      <td>51.700878</td>\n",
       "      <td>5.319214</td>\n",
       "      <td>3 fietsen beschikbaar</td>\n",
       "      <td>8 fietsen</td>\n",
       "    </tr>\n",
       "    <tr>\n",
       "      <th>1</th>\n",
       "      <td>'t Harde</td>\n",
       "      <td>https://ovfietsbeschikbaar.nl/locatie/Hde001</td>\n",
       "      <td>52.408791</td>\n",
       "      <td>5.89185</td>\n",
       "      <td>1 fietsen beschikbaar</td>\n",
       "      <td>8 fietsen</td>\n",
       "    </tr>\n",
       "    <tr>\n",
       "      <th>2</th>\n",
       "      <td>Aalten</td>\n",
       "      <td>https://ovfietsbeschikbaar.nl/locatie/atn001</td>\n",
       "      <td>51.92161</td>\n",
       "      <td>6.57929</td>\n",
       "      <td>4 fietsen beschikbaar</td>\n",
       "      <td>6 fietsen</td>\n",
       "    </tr>\n",
       "    <tr>\n",
       "      <th>3</th>\n",
       "      <td>Alkmaar</td>\n",
       "      <td>https://ovfietsbeschikbaar.nl/locatie/amr001</td>\n",
       "      <td>52.63753</td>\n",
       "      <td>4.73985</td>\n",
       "      <td>75 fietsen beschikbaar</td>\n",
       "      <td>162 fietsen</td>\n",
       "    </tr>\n",
       "    <tr>\n",
       "      <th>4</th>\n",
       "      <td>Alkmaar Noord</td>\n",
       "      <td>https://ovfietsbeschikbaar.nl/locatie/amrn003</td>\n",
       "      <td>52.64396</td>\n",
       "      <td>4.76371</td>\n",
       "      <td>22 fietsen beschikbaar</td>\n",
       "      <td>32 fietsen</td>\n",
       "    </tr>\n",
       "  </tbody>\n",
       "</table>\n",
       "</div>"
      ],
      "text/plain": [
       "                location                                            url  \\\n",
       "0  's-Hertogenbosch Oost   https://ovfietsbeschikbaar.nl/locatie/Hto001   \n",
       "1               't Harde   https://ovfietsbeschikbaar.nl/locatie/Hde001   \n",
       "2                 Aalten   https://ovfietsbeschikbaar.nl/locatie/atn001   \n",
       "3                Alkmaar   https://ovfietsbeschikbaar.nl/locatie/amr001   \n",
       "4          Alkmaar Noord  https://ovfietsbeschikbaar.nl/locatie/amrn003   \n",
       "\n",
       "         lat       lng                    text       nbikes  \n",
       "0  51.700878  5.319214   3 fietsen beschikbaar    8 fietsen  \n",
       "1  52.408791   5.89185   1 fietsen beschikbaar    8 fietsen  \n",
       "2   51.92161   6.57929   4 fietsen beschikbaar    6 fietsen  \n",
       "3   52.63753   4.73985  75 fietsen beschikbaar  162 fietsen  \n",
       "4   52.64396   4.76371  22 fietsen beschikbaar   32 fietsen  "
      ]
     },
     "execution_count": 348,
     "metadata": {},
     "output_type": "execute_result"
    }
   ],
   "source": [
    "df_total = pd.DataFrame(total_bike, columns={'nbikes'})\n",
    "df_total.reset_index(drop = True, inplace=True)\n",
    "all_together = [df, df_total]\n",
    "df = pd.concat(all_together, axis=1)\n",
    "df.head()"
   ]
  },
  {
   "cell_type": "code",
   "execution_count": 286,
   "id": "a0589f07",
   "metadata": {},
   "outputs": [],
   "source": [
    "df_total.to_csv('Total_Bikes.csv')"
   ]
  },
  {
   "cell_type": "code",
   "execution_count": null,
   "id": "9fdb89d6",
   "metadata": {},
   "outputs": [],
   "source": []
  }
 ],
 "metadata": {
  "kernelspec": {
   "display_name": "Python 3 (ipykernel)",
   "language": "python",
   "name": "python3"
  },
  "language_info": {
   "codemirror_mode": {
    "name": "ipython",
    "version": 3
   },
   "file_extension": ".py",
   "mimetype": "text/x-python",
   "name": "python",
   "nbconvert_exporter": "python",
   "pygments_lexer": "ipython3",
   "version": "3.10.4"
  }
 },
 "nbformat": 4,
 "nbformat_minor": 5
}
